{
 "cells": [
  {
   "cell_type": "code",
   "execution_count": 1,
   "id": "01cde663-ad00-4491-9a9a-dde356492764",
   "metadata": {},
   "outputs": [],
   "source": [
    "import torch \n",
    "import numpy as np\n",
    "import os\n",
    "import pandas as pd\n",
    "import matplotlib.pyplot as plt"
   ]
  },
  {
   "cell_type": "code",
   "execution_count": 2,
   "id": "a4c0c6cd-a8fa-4d53-aa9c-9e7472adfade",
   "metadata": {},
   "outputs": [],
   "source": [
    "t_c = [0.5, 14, 15, 28, 11, 8, 3, -4, 6, 13, 21]\n",
    "t_u = [35.7, 55.9, 58.2, 81.9, 56.3, 48.9, 33.9, 21.8, 48.4, 60.4, 68.4]"
   ]
  },
  {
   "cell_type": "code",
   "execution_count": 3,
   "id": "aff57a06-15de-4770-9963-1cd82407cfc1",
   "metadata": {},
   "outputs": [],
   "source": [
    "t_c = torch.tensor(t_c)\n",
    "t_u = torch.tensor(t_u)"
   ]
  },
  {
   "cell_type": "code",
   "execution_count": 4,
   "id": "6cff91be-4b9e-42ce-9973-d9f10b10b784",
   "metadata": {},
   "outputs": [],
   "source": [
    "t_un = 0.1*t_u"
   ]
  },
  {
   "cell_type": "code",
   "execution_count": 5,
   "id": "6e0da5eb-13df-4a35-bac4-64ad391c4dbd",
   "metadata": {},
   "outputs": [
    {
     "data": {
      "text/plain": [
       "tensor([3.5700, 5.5900, 5.8200, 8.1900, 5.6300, 4.8900, 3.3900, 2.1800, 4.8400,\n",
       "        6.0400, 6.8400])"
      ]
     },
     "execution_count": 5,
     "metadata": {},
     "output_type": "execute_result"
    }
   ],
   "source": [
    "t_un"
   ]
  },
  {
   "cell_type": "code",
   "execution_count": 6,
   "id": "a6d51756-2422-423d-bafe-17ce6623c2ed",
   "metadata": {},
   "outputs": [],
   "source": [
    "params = torch.tensor([1.0, 0.0], requires_grad = True)"
   ]
  },
  {
   "cell_type": "code",
   "execution_count": 7,
   "id": "bf4ea689-7b73-455b-ab95-3b534d771465",
   "metadata": {},
   "outputs": [],
   "source": [
    "def model(t_u, w, b):\n",
    "    return w*t_u + b"
   ]
  },
  {
   "cell_type": "code",
   "execution_count": 8,
   "id": "0718aa7f-0e82-4598-a462-1ac2cfea7292",
   "metadata": {},
   "outputs": [],
   "source": [
    "# also define a loss function - this would be the mse\n",
    "\n",
    "def loss_mse(t_p, t_c):\n",
    "    # t_P will be the predicted values\n",
    "    squared_diff = (t_p - t_c)**2\n",
    "    mse = squared_diff.mean()\n",
    "\n",
    "    return mse"
   ]
  },
  {
   "cell_type": "code",
   "execution_count": 9,
   "id": "7b841706-7e93-4791-9e9e-3d5d81628597",
   "metadata": {},
   "outputs": [
    {
     "data": {
      "text/plain": [
       "True"
      ]
     },
     "execution_count": 9,
     "metadata": {},
     "output_type": "execute_result"
    }
   ],
   "source": [
    "params.grad is None"
   ]
  },
  {
   "cell_type": "code",
   "execution_count": 10,
   "id": "2b36bd9d-b835-40f4-b54e-a58d48ade15f",
   "metadata": {},
   "outputs": [],
   "source": [
    "loss = loss_mse(model(t_u, *params), t_c)"
   ]
  },
  {
   "cell_type": "code",
   "execution_count": 11,
   "id": "d0c3f666-69e1-400a-8001-fca9101fe246",
   "metadata": {},
   "outputs": [
    {
     "data": {
      "text/plain": [
       "tensor(1763.8848, grad_fn=<MeanBackward0>)"
      ]
     },
     "execution_count": 11,
     "metadata": {},
     "output_type": "execute_result"
    }
   ],
   "source": [
    "loss"
   ]
  },
  {
   "cell_type": "code",
   "execution_count": 12,
   "id": "d054887f-055c-41c6-ae0d-e61fa11050ae",
   "metadata": {},
   "outputs": [],
   "source": [
    "loss.backward()"
   ]
  },
  {
   "cell_type": "code",
   "execution_count": 13,
   "id": "f53af6a3-fa0e-4aad-bafe-1efac82585e0",
   "metadata": {},
   "outputs": [
    {
     "data": {
      "text/plain": [
       "tensor([4517.2969,   82.6000])"
      ]
     },
     "execution_count": 13,
     "metadata": {},
     "output_type": "execute_result"
    }
   ],
   "source": [
    "params.grad"
   ]
  },
  {
   "cell_type": "code",
   "execution_count": 14,
   "id": "1294e6c1-d9d9-4a3a-b53d-c1a9d8bdd70f",
   "metadata": {},
   "outputs": [],
   "source": [
    "def training_loop(n_epochs, learning_rate, params, t_u, t_c):\n",
    "    for epoch in range(1, n_epochs + 1):\n",
    "        if params.grad is not None:  # <1>\n",
    "            params.grad.zero_()\n",
    "        \n",
    "        t_p = model(t_u, *params) \n",
    "        loss = loss_mse(t_p, t_c)\n",
    "        loss.backward()\n",
    "        \n",
    "        with torch.no_grad():  # <2>\n",
    "            params -= learning_rate * params.grad\n",
    "\n",
    "        if epoch % 500 == 0:\n",
    "            print('Epoch %d, Loss %f' % (epoch, float(loss)))\n",
    "            \n",
    "    return params"
   ]
  },
  {
   "cell_type": "code",
   "execution_count": 15,
   "id": "f68914b2-b68c-475c-a3a4-2964240fecec",
   "metadata": {},
   "outputs": [
    {
     "name": "stdout",
     "output_type": "stream",
     "text": [
      "Epoch 500, Loss 7.860115\n",
      "Epoch 1000, Loss 3.828538\n",
      "Epoch 1500, Loss 3.092191\n",
      "Epoch 2000, Loss 2.957698\n",
      "Epoch 2500, Loss 2.933134\n",
      "Epoch 3000, Loss 2.928648\n",
      "Epoch 3500, Loss 2.927830\n",
      "Epoch 4000, Loss 2.927679\n",
      "Epoch 4500, Loss 2.927652\n",
      "Epoch 5000, Loss 2.927647\n"
     ]
    },
    {
     "data": {
      "text/plain": [
       "tensor([  5.3671, -17.3012], requires_grad=True)"
      ]
     },
     "execution_count": 15,
     "metadata": {},
     "output_type": "execute_result"
    }
   ],
   "source": [
    "training_loop(\n",
    "    n_epochs = 5000, \n",
    "    learning_rate = 1e-2, \n",
    "    params = torch.tensor([1.0, 0.0], requires_grad=True), # <1> \n",
    "    t_u = t_un, # <2> \n",
    "    t_c = t_c)"
   ]
  },
  {
   "cell_type": "code",
   "execution_count": 16,
   "id": "768225c8-fdb0-48e1-8605-341f1bde590d",
   "metadata": {},
   "outputs": [],
   "source": [
    "# Using different optimizers"
   ]
  },
  {
   "cell_type": "code",
   "execution_count": 17,
   "id": "ebc7086f-eeb7-4abe-b9c7-9d013f5b5e63",
   "metadata": {},
   "outputs": [],
   "source": [
    "# Pytorch alllows to use multiple optimizers just like tf"
   ]
  },
  {
   "cell_type": "code",
   "execution_count": 18,
   "id": "53f89ee9-d691-4aff-8eaa-908f9bd02313",
   "metadata": {},
   "outputs": [],
   "source": [
    "import torch.optim as optim"
   ]
  },
  {
   "cell_type": "code",
   "execution_count": 19,
   "id": "b4234b3c-ffe7-4db6-b6dd-db474225cf07",
   "metadata": {},
   "outputs": [
    {
     "data": {
      "text/plain": [
       "['ASGD',\n",
       " 'Adadelta',\n",
       " 'Adafactor',\n",
       " 'Adagrad',\n",
       " 'Adam',\n",
       " 'AdamW',\n",
       " 'Adamax',\n",
       " 'LBFGS',\n",
       " 'NAdam',\n",
       " 'Optimizer',\n",
       " 'RAdam',\n",
       " 'RMSprop',\n",
       " 'Rprop',\n",
       " 'SGD',\n",
       " 'SparseAdam',\n",
       " '__all__',\n",
       " '__builtins__',\n",
       " '__cached__',\n",
       " '__doc__',\n",
       " '__file__',\n",
       " '__loader__',\n",
       " '__name__',\n",
       " '__package__',\n",
       " '__path__',\n",
       " '__spec__',\n",
       " '_adafactor',\n",
       " '_functional',\n",
       " 'lr_scheduler',\n",
       " 'swa_utils']"
      ]
     },
     "execution_count": 19,
     "metadata": {},
     "output_type": "execute_result"
    }
   ],
   "source": [
    "dir(optim)"
   ]
  },
  {
   "cell_type": "code",
   "execution_count": 20,
   "id": "519a48fb-2af6-4922-818e-fc4442c55ce3",
   "metadata": {},
   "outputs": [],
   "source": [
    "# parameter tensors are the first input to the optimizer construct"
   ]
  },
  {
   "cell_type": "code",
   "execution_count": 21,
   "id": "3072ae0b-952b-4b28-8d56-60cdf3e541a9",
   "metadata": {},
   "outputs": [],
   "source": [
    "# Every optimizer has two methods: zero_grad and step"
   ]
  },
  {
   "cell_type": "code",
   "execution_count": 22,
   "id": "77183f38-a59a-4efc-85e4-b4c2feff4862",
   "metadata": {},
   "outputs": [],
   "source": [
    "# Let's define the training loop with one of these optimizers"
   ]
  },
  {
   "cell_type": "code",
   "execution_count": 23,
   "id": "c1e57e55-f042-42f6-a27e-7c510381853f",
   "metadata": {},
   "outputs": [],
   "source": [
    "# Use SGD for now"
   ]
  },
  {
   "cell_type": "code",
   "execution_count": 24,
   "id": "78b77d71-b701-4d39-8a34-edd67f256b01",
   "metadata": {},
   "outputs": [],
   "source": [
    "params_optim = torch.tensor([1.0, 0], requires_grad = True)"
   ]
  },
  {
   "cell_type": "code",
   "execution_count": 25,
   "id": "625bcedf-c704-4be9-8185-d06b1e532290",
   "metadata": {},
   "outputs": [],
   "source": [
    "lr = 1e-2"
   ]
  },
  {
   "cell_type": "code",
   "execution_count": 26,
   "id": "6ca51ad2-4df1-420d-bc38-7998f70da724",
   "metadata": {},
   "outputs": [],
   "source": [
    "optimizer = optim.SGD([params_optim], lr = lr)"
   ]
  },
  {
   "cell_type": "code",
   "execution_count": 27,
   "id": "e6611ec5-76bc-4058-9721-19c61f2a86a1",
   "metadata": {},
   "outputs": [],
   "source": [
    "n_eps = 5000"
   ]
  },
  {
   "cell_type": "code",
   "execution_count": 28,
   "id": "11e51fbd-6533-4747-b93e-883e2237ea2b",
   "metadata": {},
   "outputs": [],
   "source": [
    "# define the training loop\n",
    "\n",
    "def train_loop(n_epochs, optimizer, params, t_u, t_c):\n",
    "    for epoch in range(1, n_epochs + 1):\n",
    "        t_p = model(t_u, *params)\n",
    "        loss = loss_mse(t_p, t_c)\n",
    "\n",
    "        optimizer.zero_grad()\n",
    "        loss.backward()\n",
    "        optimizer.step()\n",
    "\n",
    "        if epoch % 500 == 0:\n",
    "            print('Epoch %d, Loss%f' % (epoch, float(loss)))\n",
    "\n",
    "    return params"
   ]
  },
  {
   "cell_type": "code",
   "execution_count": 29,
   "id": "1c0850b3-1654-4657-ac57-fde427d72d4e",
   "metadata": {},
   "outputs": [
    {
     "name": "stdout",
     "output_type": "stream",
     "text": [
      "Epoch 500, Loss7.860120\n",
      "Epoch 1000, Loss3.828538\n",
      "Epoch 1500, Loss3.092191\n",
      "Epoch 2000, Loss2.957698\n",
      "Epoch 2500, Loss2.933134\n",
      "Epoch 3000, Loss2.928648\n",
      "Epoch 3500, Loss2.927830\n",
      "Epoch 4000, Loss2.927679\n",
      "Epoch 4500, Loss2.927652\n",
      "Epoch 5000, Loss2.927647\n"
     ]
    },
    {
     "data": {
      "text/plain": [
       "tensor([  5.3671, -17.3012], requires_grad=True)"
      ]
     },
     "execution_count": 29,
     "metadata": {},
     "output_type": "execute_result"
    }
   ],
   "source": [
    "train_loop(n_eps, optimizer, params_optim, t_un, t_c)"
   ]
  },
  {
   "cell_type": "code",
   "execution_count": 30,
   "id": "3cb0179e-ab52-4d3d-9c5e-9a09bd06dff5",
   "metadata": {},
   "outputs": [],
   "source": [
    "# Now what if we have a set of validation data?\n",
    "\n",
    "n_samples = t_u.shape[0]"
   ]
  },
  {
   "cell_type": "code",
   "execution_count": 31,
   "id": "3ed072c1-6ed9-4bc7-a7ba-afb525361761",
   "metadata": {},
   "outputs": [],
   "source": [
    "n_val = int(0.2*n_samples)"
   ]
  },
  {
   "cell_type": "code",
   "execution_count": 32,
   "id": "105d3e34-5847-4127-b91d-c0d9dfe6299b",
   "metadata": {},
   "outputs": [
    {
     "data": {
      "text/plain": [
       "2"
      ]
     },
     "execution_count": 32,
     "metadata": {},
     "output_type": "execute_result"
    }
   ],
   "source": [
    "n_val"
   ]
  },
  {
   "cell_type": "code",
   "execution_count": 33,
   "id": "87042e3e-fb81-4cd2-9c33-f1f486ce5787",
   "metadata": {},
   "outputs": [],
   "source": [
    "shuffled_samps = torch.randperm(n_samples)"
   ]
  },
  {
   "cell_type": "code",
   "execution_count": 34,
   "id": "36b0ac97-6aba-4eab-aa94-cc87ff68e767",
   "metadata": {},
   "outputs": [
    {
     "data": {
      "text/plain": [
       "tensor([ 2,  4,  1,  8,  5,  0,  6,  9, 10,  3,  7])"
      ]
     },
     "execution_count": 34,
     "metadata": {},
     "output_type": "execute_result"
    }
   ],
   "source": [
    "shuffled_samps"
   ]
  },
  {
   "cell_type": "code",
   "execution_count": 35,
   "id": "9a36cb7e-bb44-45c8-906b-62220043f6ed",
   "metadata": {},
   "outputs": [],
   "source": [
    "train_indices = shuffled_samps[:-n_val]\n",
    "valid_indices = shuffled_samps[-n_val:]"
   ]
  },
  {
   "cell_type": "code",
   "execution_count": 36,
   "id": "9f2ceb4d-e133-4722-8f5f-98a2306d7bc4",
   "metadata": {},
   "outputs": [
    {
     "data": {
      "text/plain": [
       "(tensor([ 2,  4,  1,  8,  5,  0,  6,  9, 10]), tensor([3, 7]))"
      ]
     },
     "execution_count": 36,
     "metadata": {},
     "output_type": "execute_result"
    }
   ],
   "source": [
    "train_indices, valid_indices"
   ]
  },
  {
   "cell_type": "code",
   "execution_count": 37,
   "id": "a5da2ffd-52f1-4efa-a074-846af538f539",
   "metadata": {},
   "outputs": [],
   "source": [
    "# Okay, now create the train and validation data splits?"
   ]
  },
  {
   "cell_type": "code",
   "execution_count": 38,
   "id": "1e4bf8bd-9792-42c8-986d-9cd24b31ebb3",
   "metadata": {},
   "outputs": [],
   "source": [
    "train_t_c = t_c[train_indices]\n",
    "valid_t_c = t_c[valid_indices]"
   ]
  },
  {
   "cell_type": "code",
   "execution_count": 39,
   "id": "6fbbdc7f-49e2-462f-922f-7a3ab800d4b5",
   "metadata": {},
   "outputs": [
    {
     "data": {
      "text/plain": [
       "tensor([15.0000, 11.0000, 14.0000,  6.0000,  8.0000,  0.5000,  3.0000, 13.0000,\n",
       "        21.0000])"
      ]
     },
     "execution_count": 39,
     "metadata": {},
     "output_type": "execute_result"
    }
   ],
   "source": [
    "train_t_c"
   ]
  },
  {
   "cell_type": "code",
   "execution_count": 40,
   "id": "845a4937-1a17-4872-ad79-d1da9bdd4de9",
   "metadata": {},
   "outputs": [
    {
     "data": {
      "text/plain": [
       "tensor([28., -4.])"
      ]
     },
     "execution_count": 40,
     "metadata": {},
     "output_type": "execute_result"
    }
   ],
   "source": [
    "valid_t_c"
   ]
  },
  {
   "cell_type": "code",
   "execution_count": 41,
   "id": "d8055dd3-39b0-4091-8bbd-0903d05f55c0",
   "metadata": {},
   "outputs": [],
   "source": [
    "train_t_u = t_u[train_indices]\n",
    "valid_t_u = t_u[valid_indices]"
   ]
  },
  {
   "cell_type": "code",
   "execution_count": 42,
   "id": "b66872ba-d14b-454d-8b7a-eb4b6bbf3c6a",
   "metadata": {},
   "outputs": [
    {
     "data": {
      "text/plain": [
       "tensor([58.2000, 56.3000, 55.9000, 48.4000, 48.9000, 35.7000, 33.9000, 60.4000,\n",
       "        68.4000])"
      ]
     },
     "execution_count": 42,
     "metadata": {},
     "output_type": "execute_result"
    }
   ],
   "source": [
    "train_t_u"
   ]
  },
  {
   "cell_type": "code",
   "execution_count": 43,
   "id": "7c0781b8-4a51-48f4-986e-3d1e0ed518ca",
   "metadata": {},
   "outputs": [
    {
     "data": {
      "text/plain": [
       "tensor([81.9000, 21.8000])"
      ]
     },
     "execution_count": 43,
     "metadata": {},
     "output_type": "execute_result"
    }
   ],
   "source": [
    "valid_t_u"
   ]
  },
  {
   "cell_type": "code",
   "execution_count": 44,
   "id": "cb492cd2-a3c3-4c17-b53a-d64e7d28bfc2",
   "metadata": {},
   "outputs": [],
   "source": [
    "# normalize t_u"
   ]
  },
  {
   "cell_type": "code",
   "execution_count": 45,
   "id": "98b572c7-c75b-4e9d-839f-3a40ffd5ae4b",
   "metadata": {},
   "outputs": [],
   "source": [
    "train_t_un = 0.1*train_t_u"
   ]
  },
  {
   "cell_type": "code",
   "execution_count": 46,
   "id": "0d2c0f55-316e-4d6f-9ef3-b419bdf7a3e3",
   "metadata": {},
   "outputs": [],
   "source": [
    "valid_t_un = 0.1*valid_t_u"
   ]
  },
  {
   "cell_type": "code",
   "execution_count": 47,
   "id": "96e1c51b-b386-4a13-b4a2-5ab945c59e33",
   "metadata": {},
   "outputs": [
    {
     "data": {
      "text/plain": [
       "tensor([5.8200, 5.6300, 5.5900, 4.8400, 4.8900, 3.5700, 3.3900, 6.0400, 6.8400])"
      ]
     },
     "execution_count": 47,
     "metadata": {},
     "output_type": "execute_result"
    }
   ],
   "source": [
    "train_t_un"
   ]
  },
  {
   "cell_type": "code",
   "execution_count": 48,
   "id": "715be056-278c-46c5-ac8b-d6b9d3820b4f",
   "metadata": {},
   "outputs": [
    {
     "data": {
      "text/plain": [
       "tensor([8.1900, 2.1800])"
      ]
     },
     "execution_count": 48,
     "metadata": {},
     "output_type": "execute_result"
    }
   ],
   "source": [
    "valid_t_un"
   ]
  },
  {
   "cell_type": "code",
   "execution_count": 49,
   "id": "99cf3f88-d991-4f3d-b2de-79c672cad7e1",
   "metadata": {},
   "outputs": [],
   "source": [
    "# Okay, now we can write out the new train loop"
   ]
  },
  {
   "cell_type": "code",
   "execution_count": 50,
   "id": "7c8e7688-0e1b-4e69-97c8-ff31bbf42e39",
   "metadata": {},
   "outputs": [],
   "source": [
    "# notice that we only call loss.backward() on the train loss and this is not done on the validation data. Also, with pytorch autograd, rememeber all the gradients get accumulated - therefore we only use the latest update on the gradient - that is why we do the loss.backwrads()"
   ]
  },
  {
   "cell_type": "code",
   "execution_count": 51,
   "id": "64719076-a55b-4ee3-9183-e017a0aa5332",
   "metadata": {},
   "outputs": [],
   "source": [
    "def training_loop(n_epochs, optimizer, params, train_t_u, val_t_u,\n",
    "                  train_t_c, val_t_c):\n",
    "    for epoch in range(1, n_epochs + 1):\n",
    "        train_t_p = model(train_t_u, *params) # <1>\n",
    "        train_loss = loss_mse(train_t_p, train_t_c)\n",
    "                             \n",
    "        val_t_p = model(val_t_u, *params) # <1>\n",
    "        val_loss = loss_mse(val_t_p, val_t_c)\n",
    "\n",
    "        # this does the zero gradient for the optimizer, so that we don't need to do that with the with statements\n",
    "        optimizer.zero_grad()\n",
    "        train_loss.backward() \n",
    "        optimizer.step()\n",
    "\n",
    "        if epoch <= 3 or epoch % 500 == 0:\n",
    "            print(f\"Epoch {epoch}, Training loss {train_loss.item():.4f},\"\n",
    "                  f\" Validation loss {val_loss.item():.4f}\")\n",
    "            \n",
    "    return params"
   ]
  },
  {
   "cell_type": "code",
   "execution_count": 52,
   "id": "cafa65b4-aec2-4006-89f2-f95584cc0807",
   "metadata": {},
   "outputs": [],
   "source": [
    "# define the optimizers here - along with the learning rate\n",
    "params = torch.tensor([1.0, 0.0], requires_grad=True)\n",
    "learning_rate = 1e-2\n",
    "optimizer = optim.SGD([params], lr=learning_rate)"
   ]
  },
  {
   "cell_type": "code",
   "execution_count": 53,
   "id": "b8472669-d529-4475-ad0f-a44a1a50ea1c",
   "metadata": {},
   "outputs": [
    {
     "name": "stdout",
     "output_type": "stream",
     "text": [
      "Epoch 1, Training loss 50.3755, Validation loss 215.3142\n",
      "Epoch 2, Training loss 22.5148, Validation loss 136.3782\n",
      "Epoch 3, Training loss 17.5463, Validation loss 111.6176\n",
      "Epoch 500, Training loss 9.1372, Validation loss 43.9237\n",
      "Epoch 1000, Training loss 5.7752, Validation loss 20.3462\n",
      "Epoch 1500, Training loss 4.2485, Validation loss 10.1084\n",
      "Epoch 2000, Training loss 3.5553, Validation loss 5.7752\n",
      "Epoch 2500, Training loss 3.2406, Validation loss 4.0202\n",
      "Epoch 3000, Training loss 3.0976, Validation loss 3.3665\n"
     ]
    },
    {
     "data": {
      "text/plain": [
       "tensor([  5.1257, -16.3117], requires_grad=True)"
      ]
     },
     "execution_count": 53,
     "metadata": {},
     "output_type": "execute_result"
    }
   ],
   "source": [
    "training_loop(\n",
    "    n_epochs = 3000, \n",
    "    optimizer = optimizer,\n",
    "    params = params,\n",
    "    train_t_u = train_t_un, # <1> \n",
    "    val_t_u = valid_t_un, # <1> \n",
    "    train_t_c = train_t_c,\n",
    "    val_t_c = valid_t_c)"
   ]
  },
  {
   "cell_type": "code",
   "execution_count": 54,
   "id": "622773f4-b69c-4193-87ee-482ab9cc6130",
   "metadata": {},
   "outputs": [],
   "source": [
    "# but this way of code writing in the train block still computes the gradients also on the validation data, and we do not need that. Therefore we can re-write the above function as below."
   ]
  },
  {
   "cell_type": "code",
   "execution_count": 60,
   "id": "2e69a4cc-509f-4376-b1f3-cbfab3419e6a",
   "metadata": {},
   "outputs": [],
   "source": [
    "def training_loop(n_epochs, optimizer, params, train_t_u, val_t_u,\n",
    "                  train_t_c, val_t_c):\n",
    "    for epoch in range(1, n_epochs + 1):\n",
    "        train_t_p = model(train_t_u, *params)\n",
    "        train_loss = loss_mse(train_t_p, train_t_c)\n",
    "\n",
    "        with torch.no_grad(): # <1>\n",
    "            val_t_p = model(val_t_u, *params)\n",
    "            val_loss = loss_mse(val_t_p, val_t_c)\n",
    "            assert val_loss.requires_grad == False # <2>\n",
    "            \n",
    "        optimizer.zero_grad()\n",
    "        train_loss.backward()\n",
    "        optimizer.step()\n",
    "        \n",
    "        if epoch <= 3 or epoch % 500 == 0:\n",
    "            print(f\"Epoch {epoch}, Training loss {train_loss.item():.4f},\"\n",
    "                  f\" Validation loss {val_loss.item():.4f}\")\n",
    "\n",
    "    return params"
   ]
  },
  {
   "cell_type": "code",
   "execution_count": 61,
   "id": "876f73d0-3944-425d-9ce7-84d24d3b4156",
   "metadata": {},
   "outputs": [
    {
     "name": "stdout",
     "output_type": "stream",
     "text": [
      "Epoch 1, Training loss 2.9798, Validation loss 3.2881\n",
      "Epoch 2, Training loss 2.9798, Validation loss 3.2882\n",
      "Epoch 3, Training loss 2.9798, Validation loss 3.2882\n",
      "Epoch 500, Training loss 2.9792, Validation loss 3.3114\n",
      "Epoch 1000, Training loss 2.9790, Validation loss 3.3281\n",
      "Epoch 1500, Training loss 2.9788, Validation loss 3.3398\n",
      "Epoch 2000, Training loss 2.9788, Validation loss 3.3479\n",
      "Epoch 2500, Training loss 2.9788, Validation loss 3.3534\n",
      "Epoch 3000, Training loss 2.9787, Validation loss 3.3572\n"
     ]
    },
    {
     "data": {
      "text/plain": [
       "tensor([  5.4392, -18.0020], requires_grad=True)"
      ]
     },
     "execution_count": 61,
     "metadata": {},
     "output_type": "execute_result"
    }
   ],
   "source": [
    "training_loop(\n",
    "    n_epochs = 3000, \n",
    "    optimizer = optimizer,\n",
    "    params = params,\n",
    "    train_t_u = train_t_un, # <1> \n",
    "    val_t_u = valid_t_un, # <1> \n",
    "    train_t_c = train_t_c,\n",
    "    val_t_c = valid_t_c)"
   ]
  }
 ],
 "metadata": {
  "kernelspec": {
   "display_name": "PyTorch GPU 2.5 (py312)",
   "language": "python",
   "name": "pytorch-gpu-2.5-py312"
  },
  "language_info": {
   "codemirror_mode": {
    "name": "ipython",
    "version": 3
   },
   "file_extension": ".py",
   "mimetype": "text/x-python",
   "name": "python",
   "nbconvert_exporter": "python",
   "pygments_lexer": "ipython3",
   "version": "3.12.8"
  }
 },
 "nbformat": 4,
 "nbformat_minor": 5
}
