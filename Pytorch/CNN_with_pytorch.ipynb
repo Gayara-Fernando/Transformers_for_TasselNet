{
 "cells": [
  {
   "cell_type": "code",
   "execution_count": 1,
   "id": "1bb49b1f-6202-4b19-bf65-a4f53daca65a",
   "metadata": {},
   "outputs": [],
   "source": [
    "import matplotlib.pyplot as plt\n",
    "import numpy as np\n",
    "import pandas as pd\n",
    "import torch"
   ]
  },
  {
   "cell_type": "code",
   "execution_count": 2,
   "id": "c7681b7d-3f9d-4cfa-abe8-1a718945ffb0",
   "metadata": {},
   "outputs": [
    {
     "name": "stdout",
     "output_type": "stream",
     "text": [
      "Files already downloaded and verified\n"
     ]
    }
   ],
   "source": [
    "from torchvision import datasets\n",
    "data_path = 'data/'\n",
    "cifar10 = datasets.CIFAR10(data_path, train=True, download=True)"
   ]
  },
  {
   "cell_type": "code",
   "execution_count": 3,
   "id": "4dfa0f27-4f3a-42e7-8929-b580c492e64e",
   "metadata": {},
   "outputs": [
    {
     "name": "stdout",
     "output_type": "stream",
     "text": [
      "Files already downloaded and verified\n"
     ]
    }
   ],
   "source": [
    "cifar10_val = datasets.CIFAR10(data_path, train=False, download=True)"
   ]
  },
  {
   "cell_type": "code",
   "execution_count": 4,
   "id": "ee65c844-a299-4bfb-8211-2545c483c912",
   "metadata": {},
   "outputs": [
    {
     "data": {
      "text/plain": [
       "(torchvision.datasets.cifar.CIFAR10,\n",
       " torchvision.datasets.vision.VisionDataset,\n",
       " torch.utils.data.dataset.Dataset,\n",
       " typing.Generic,\n",
       " object)"
      ]
     },
     "execution_count": 4,
     "metadata": {},
     "output_type": "execute_result"
    }
   ],
   "source": [
    "type(cifar10).__mro__"
   ]
  },
  {
   "cell_type": "code",
   "execution_count": 5,
   "id": "5748ac83-03e7-400a-bd1d-5b1651ddaf32",
   "metadata": {},
   "outputs": [
    {
     "data": {
      "text/plain": [
       "(torchvision.datasets.cifar.CIFAR10,\n",
       " torchvision.datasets.vision.VisionDataset,\n",
       " torch.utils.data.dataset.Dataset,\n",
       " typing.Generic,\n",
       " object)"
      ]
     },
     "execution_count": 5,
     "metadata": {},
     "output_type": "execute_result"
    }
   ],
   "source": [
    "type(cifar10_val).__mro__"
   ]
  },
  {
   "cell_type": "code",
   "execution_count": 6,
   "id": "7d2dffb6-698f-4a43-a0a3-9fd68b66c8cf",
   "metadata": {},
   "outputs": [],
   "source": [
    "# how many data points in each datasets?"
   ]
  },
  {
   "cell_type": "code",
   "execution_count": 7,
   "id": "17710e59-8976-4724-b278-26f9060dd1fa",
   "metadata": {},
   "outputs": [
    {
     "data": {
      "text/plain": [
       "50000"
      ]
     },
     "execution_count": 7,
     "metadata": {},
     "output_type": "execute_result"
    }
   ],
   "source": [
    "len(cifar10)"
   ]
  },
  {
   "cell_type": "code",
   "execution_count": 8,
   "id": "21921507-9697-48ac-8d8c-fb169b7a6840",
   "metadata": {},
   "outputs": [
    {
     "data": {
      "text/plain": [
       "10000"
      ]
     },
     "execution_count": 8,
     "metadata": {},
     "output_type": "execute_result"
    }
   ],
   "source": [
    "len(cifar10_val)"
   ]
  },
  {
   "cell_type": "code",
   "execution_count": 9,
   "id": "1af8018a-1d19-4443-bd9f-baffd693edc1",
   "metadata": {},
   "outputs": [],
   "source": [
    "# a pytorch Dataset is an object, it has two methods: __len__ (returns the no.of samples) and __getitem__ (return the items - consisting of samples and the corresponding labels). When a py object has a __len__ method, we can use len() on it, and indexing on it due to __getitem__"
   ]
  },
  {
   "cell_type": "code",
   "execution_count": 10,
   "id": "429736fb-4cf3-40e7-8a7f-a65ab8b9dfb8",
   "metadata": {},
   "outputs": [],
   "source": [
    "img, label = cifar10[99]"
   ]
  },
  {
   "cell_type": "code",
   "execution_count": 11,
   "id": "e586ba8a-e095-43d4-b731-a81d77e9aca3",
   "metadata": {},
   "outputs": [
    {
     "data": {
      "image/jpeg": "[encoded data removed]",
      "image/png": "[encoded data removed]",
      "text/plain": [
       "<PIL.Image.Image image mode=RGB size=32x32>"
      ]
     },
     "execution_count": 11,
     "metadata": {},
     "output_type": "execute_result"
    }
   ],
   "source": [
    "img"
   ]
  },
  {
   "cell_type": "code",
   "execution_count": 12,
   "id": "b4dc15e6-d693-4846-afcc-55b47f1766a5",
   "metadata": {},
   "outputs": [
    {
     "data": {
      "text/plain": [
       "1"
      ]
     },
     "execution_count": 12,
     "metadata": {},
     "output_type": "execute_result"
    }
   ],
   "source": [
    "label"
   ]
  },
  {
   "cell_type": "code",
   "execution_count": 13,
   "id": "e5822845-a101-46ab-a691-b4d54cd05976",
   "metadata": {},
   "outputs": [
    {
     "data": {
      "text/plain": [
       "'automobile'"
      ]
     },
     "execution_count": 13,
     "metadata": {},
     "output_type": "execute_result"
    }
   ],
   "source": [
    "class_names = ['airplane','automobile','bird','cat','deer',\n",
    "               'dog','frog','horse','ship','truck']\n",
    "class_names[label]"
   ]
  },
  {
   "cell_type": "code",
   "execution_count": 14,
   "id": "18ccba49-3bab-47d0-92f7-2695f9b1081b",
   "metadata": {},
   "outputs": [
    {
     "data": {
      "image/png": "[encoded data removed]",
      "text/plain": [
       "<Figure size 640x480 with 1 Axes>"
      ]
     },
     "metadata": {},
     "output_type": "display_data"
    }
   ],
   "source": [
    "plt.imshow(img)\n",
    "plt.show()"
   ]
  },
  {
   "cell_type": "code",
   "execution_count": 15,
   "id": "317fed1c-2ef6-4402-bf0c-0cd7e850a3a9",
   "metadata": {},
   "outputs": [],
   "source": [
    "# now the data set consists of PIL images, and we want to convert these to torch tensors"
   ]
  },
  {
   "cell_type": "code",
   "execution_count": 16,
   "id": "0e6730c5-8b31-468b-a300-8c0567ca2771",
   "metadata": {},
   "outputs": [],
   "source": [
    "# do this with torchvision transforms"
   ]
  },
  {
   "cell_type": "code",
   "execution_count": 17,
   "id": "cc73527f-b06b-4143-ae14-c577d3af1739",
   "metadata": {},
   "outputs": [],
   "source": [
    "from torchvision import transforms"
   ]
  },
  {
   "cell_type": "code",
   "execution_count": 18,
   "id": "3d4e50ba-5c9f-4247-a06c-3fb8f21b42f7",
   "metadata": {},
   "outputs": [
    {
     "data": {
      "text/plain": [
       "['AugMix',\n",
       " 'AutoAugment',\n",
       " 'AutoAugmentPolicy',\n",
       " 'CenterCrop',\n",
       " 'ColorJitter',\n",
       " 'Compose',\n",
       " 'ConvertImageDtype',\n",
       " 'ElasticTransform',\n",
       " 'FiveCrop',\n",
       " 'GaussianBlur',\n",
       " 'Grayscale',\n",
       " 'InterpolationMode',\n",
       " 'Lambda',\n",
       " 'LinearTransformation',\n",
       " 'Normalize',\n",
       " 'PILToTensor',\n",
       " 'Pad',\n",
       " 'RandAugment',\n",
       " 'RandomAdjustSharpness',\n",
       " 'RandomAffine',\n",
       " 'RandomApply',\n",
       " 'RandomAutocontrast',\n",
       " 'RandomChoice',\n",
       " 'RandomCrop',\n",
       " 'RandomEqualize',\n",
       " 'RandomErasing',\n",
       " 'RandomGrayscale',\n",
       " 'RandomHorizontalFlip',\n",
       " 'RandomInvert',\n",
       " 'RandomOrder',\n",
       " 'RandomPerspective',\n",
       " 'RandomPosterize',\n",
       " 'RandomResizedCrop',\n",
       " 'RandomRotation',\n",
       " 'RandomSolarize',\n",
       " 'RandomVerticalFlip',\n",
       " 'Resize',\n",
       " 'TenCrop',\n",
       " 'ToPILImage',\n",
       " 'ToTensor',\n",
       " 'TrivialAugmentWide',\n",
       " '__builtins__',\n",
       " '__cached__',\n",
       " '__doc__',\n",
       " '__file__',\n",
       " '__loader__',\n",
       " '__name__',\n",
       " '__package__',\n",
       " '__path__',\n",
       " '__spec__',\n",
       " '_functional_pil',\n",
       " '_functional_tensor',\n",
       " '_presets',\n",
       " 'autoaugment',\n",
       " 'functional',\n",
       " 'transforms']"
      ]
     },
     "execution_count": 18,
     "metadata": {},
     "output_type": "execute_result"
    }
   ],
   "source": [
    "dir(transforms)"
   ]
  },
  {
   "cell_type": "code",
   "execution_count": 19,
   "id": "1445162b-2d09-49eb-a6fa-82ac95ce2566",
   "metadata": {},
   "outputs": [],
   "source": [
    "# ToTensor is what we will use which will transform np arrays and PILs"
   ]
  },
  {
   "cell_type": "code",
   "execution_count": 20,
   "id": "0ea30259-bf89-4484-a83a-39a01152a3ec",
   "metadata": {},
   "outputs": [
    {
     "data": {
      "text/plain": [
       "(32, 32, 3)"
      ]
     },
     "execution_count": 20,
     "metadata": {},
     "output_type": "execute_result"
    }
   ],
   "source": [
    "# can we get the shape of the PIL image object? We can as below\n",
    "np.array(img).shape"
   ]
  },
  {
   "cell_type": "code",
   "execution_count": 21,
   "id": "0e49b3ef-47ca-4ff6-870f-840f1609ae46",
   "metadata": {},
   "outputs": [],
   "source": [
    "# but let's convert the image object to a tensor with torchvision transform"
   ]
  },
  {
   "cell_type": "code",
   "execution_count": 22,
   "id": "67673d33-3735-4cc5-9e3e-5e8b93e60965",
   "metadata": {},
   "outputs": [],
   "source": [
    "to_tensor = transforms.ToTensor()"
   ]
  },
  {
   "cell_type": "code",
   "execution_count": 23,
   "id": "800a7b09-3bf7-4019-af71-c9bc9365b571",
   "metadata": {},
   "outputs": [],
   "source": [
    "img_t = to_tensor(img)"
   ]
  },
  {
   "cell_type": "code",
   "execution_count": 24,
   "id": "1897f23a-43fe-466f-a6a5-238c60f09ce9",
   "metadata": {},
   "outputs": [
    {
     "data": {
      "text/plain": [
       "torch.Size([3, 32, 32])"
      ]
     },
     "execution_count": 24,
     "metadata": {},
     "output_type": "execute_result"
    }
   ],
   "source": [
    "img_t.shape # of shape C*H*W"
   ]
  },
  {
   "cell_type": "code",
   "execution_count": 25,
   "id": "0612dc76-bcee-4dac-81f4-83ad226abfb2",
   "metadata": {},
   "outputs": [],
   "source": [
    "# we can do the transforms in the downloading phase itself"
   ]
  },
  {
   "cell_type": "code",
   "execution_count": 26,
   "id": "29e5303b-03be-4892-bb7d-9e6b93f36dec",
   "metadata": {},
   "outputs": [],
   "source": [
    "tensor_cifar10 = datasets.CIFAR10(data_path, train=True, download=False, transform = transforms.ToTensor())"
   ]
  },
  {
   "cell_type": "code",
   "execution_count": 27,
   "id": "27ff4ab4-ba87-451b-b370-af7284deb222",
   "metadata": {},
   "outputs": [],
   "source": [
    "img_t, label = tensor_cifar10[99]"
   ]
  },
  {
   "cell_type": "code",
   "execution_count": 28,
   "id": "52cf1bea-1248-4c51-9738-826fc6849276",
   "metadata": {},
   "outputs": [
    {
     "data": {
      "text/plain": [
       "torch.Tensor"
      ]
     },
     "execution_count": 28,
     "metadata": {},
     "output_type": "execute_result"
    }
   ],
   "source": [
    "type(img_t)"
   ]
  },
  {
   "cell_type": "code",
   "execution_count": 29,
   "id": "6ea18bed-ca08-44a1-9460-3da383d25d04",
   "metadata": {},
   "outputs": [
    {
     "data": {
      "text/plain": [
       "(torch.Size([3, 32, 32]), torch.float32)"
      ]
     },
     "execution_count": 29,
     "metadata": {},
     "output_type": "execute_result"
    }
   ],
   "source": [
    "img_t.shape, img_t.dtype"
   ]
  },
  {
   "cell_type": "code",
   "execution_count": 30,
   "id": "49a577b2-0dab-44cd-9a2b-c40a2ba6356d",
   "metadata": {},
   "outputs": [
    {
     "data": {
      "text/plain": [
       "1"
      ]
     },
     "execution_count": 30,
     "metadata": {},
     "output_type": "execute_result"
    }
   ],
   "source": [
    "label"
   ]
  },
  {
   "cell_type": "code",
   "execution_count": 31,
   "id": "8c713de1-0615-4ea2-8083-9315895b4b22",
   "metadata": {},
   "outputs": [],
   "source": [
    "# totensor also converts all the images to a 0 to 1 range(before that it was 0 to 255)"
   ]
  },
  {
   "cell_type": "code",
   "execution_count": 32,
   "id": "22769921-2e66-411e-b43f-bb9a26583608",
   "metadata": {},
   "outputs": [
    {
     "data": {
      "text/plain": [
       "tensor([[[0.2431, 0.1961, 0.1804,  ..., 0.6549, 0.7176, 0.5373],\n",
       "         [0.2471, 0.2157, 0.2039,  ..., 0.6392, 0.6706, 0.5686],\n",
       "         [0.2275, 0.2510, 0.2196,  ..., 0.6000, 0.5882, 0.4824],\n",
       "         ...,\n",
       "         [0.6745, 0.5608, 0.5098,  ..., 0.3686, 0.5529, 0.5451],\n",
       "         [0.7176, 0.5882, 0.3137,  ..., 0.3176, 0.5294, 0.5608],\n",
       "         [0.8196, 0.7137, 0.5451,  ..., 0.2314, 0.5098, 0.6627]],\n",
       "\n",
       "        [[0.2510, 0.1961, 0.1725,  ..., 0.6745, 0.7216, 0.5333],\n",
       "         [0.2549, 0.2078, 0.1961,  ..., 0.6627, 0.6824, 0.5725],\n",
       "         [0.2431, 0.2588, 0.2353,  ..., 0.6078, 0.6039, 0.5020],\n",
       "         ...,\n",
       "         [0.5294, 0.4314, 0.2196,  ..., 0.2941, 0.4235, 0.4118],\n",
       "         [0.5725, 0.4627, 0.2510,  ..., 0.2824, 0.4627, 0.4902],\n",
       "         [0.6824, 0.5922, 0.4275,  ..., 0.2118, 0.4667, 0.6118]],\n",
       "\n",
       "        [[0.1725, 0.1020, 0.0745,  ..., 0.2706, 0.2980, 0.2824],\n",
       "         [0.1451, 0.1020, 0.1059,  ..., 0.2392, 0.2941, 0.3020],\n",
       "         [0.1412, 0.1451, 0.1451,  ..., 0.2431, 0.2510, 0.2235],\n",
       "         ...,\n",
       "         [0.3882, 0.3294, 0.1647,  ..., 0.2196, 0.3373, 0.3176],\n",
       "         [0.4588, 0.3725, 0.1725,  ..., 0.2353, 0.3843, 0.4314],\n",
       "         [0.5647, 0.4824, 0.3255,  ..., 0.1843, 0.4353, 0.6275]]])"
      ]
     },
     "execution_count": 32,
     "metadata": {},
     "output_type": "execute_result"
    }
   ],
   "source": [
    "img_t"
   ]
  },
  {
   "cell_type": "code",
   "execution_count": 33,
   "id": "0886a719-8e23-4af1-b4dd-2784bdc5e3ae",
   "metadata": {},
   "outputs": [
    {
     "data": {
      "image/png": "[encoded data removed]",
      "text/plain": [
       "<Figure size 640x480 with 1 Axes>"
      ]
     },
     "metadata": {},
     "output_type": "display_data"
    }
   ],
   "source": [
    "# verify it's the same image\n",
    "plt.imshow(img_t.permute(1,2,0))\n",
    "plt.show()"
   ]
  },
  {
   "cell_type": "code",
   "execution_count": 34,
   "id": "eeca9dea-b75b-49aa-941e-31de7b19a9a5",
   "metadata": {},
   "outputs": [
    {
     "data": {
      "text/plain": [
       "(tensor(0.), tensor(1.))"
      ]
     },
     "execution_count": 34,
     "metadata": {},
     "output_type": "execute_result"
    }
   ],
   "source": [
    "img_t.min(), img_t.max()"
   ]
  },
  {
   "cell_type": "code",
   "execution_count": 35,
   "id": "8dd9918e-dd26-4356-8c8e-c961fc87644d",
   "metadata": {},
   "outputs": [],
   "source": [
    "# may also need to normalize for each channel"
   ]
  },
  {
   "cell_type": "code",
   "execution_count": 36,
   "id": "d2071a03-42e6-453c-8f32-daaa0b5e5313",
   "metadata": {},
   "outputs": [],
   "source": [
    "# This is a recommended step we might have ommitted this with the preprocessed data for the BPM, but we are using bettwe activations and best optimizers, so should make up for this stuff"
   ]
  },
  {
   "cell_type": "code",
   "execution_count": 37,
   "id": "05d4ffe7-ff88-4974-ba27-d9d4c27bab2c",
   "metadata": {},
   "outputs": [],
   "source": [
    "imgs = torch.stack([img_t for img_t, _ in tensor_cifar10 ], dim = 3)"
   ]
  },
  {
   "cell_type": "code",
   "execution_count": 38,
   "id": "7732bf79-87bc-4ddd-b2b3-7355b8865437",
   "metadata": {},
   "outputs": [
    {
     "data": {
      "text/plain": [
       "torch.Size([3, 32, 32, 50000])"
      ]
     },
     "execution_count": 38,
     "metadata": {},
     "output_type": "execute_result"
    }
   ],
   "source": [
    "imgs.shape"
   ]
  },
  {
   "cell_type": "code",
   "execution_count": 39,
   "id": "b6ea044f-a0d2-4c72-94ab-5e593efad6a5",
   "metadata": {},
   "outputs": [],
   "source": [
    "# now we can compute the mean and std per channel"
   ]
  },
  {
   "cell_type": "code",
   "execution_count": 40,
   "id": "a7079274-5b66-438e-8df1-61d1d94abed0",
   "metadata": {},
   "outputs": [
    {
     "data": {
      "text/plain": [
       "torch.Size([3, 51200000])"
      ]
     },
     "execution_count": 40,
     "metadata": {},
     "output_type": "execute_result"
    }
   ],
   "source": [
    "imgs.view(3,-1).shape"
   ]
  },
  {
   "cell_type": "code",
   "execution_count": 41,
   "id": "c03b9c77-ee88-4136-ad3f-fb7a5bf0a82f",
   "metadata": {},
   "outputs": [
    {
     "data": {
      "text/plain": [
       "tensor([0.4914, 0.4822, 0.4465])"
      ]
     },
     "execution_count": 41,
     "metadata": {},
     "output_type": "execute_result"
    }
   ],
   "source": [
    "# mean for the three channels\n",
    "imgs.view(3,-1).mean(dim = 1)"
   ]
  },
  {
   "cell_type": "code",
   "execution_count": 42,
   "id": "04f37515-2810-4ce4-a7e2-5be644012268",
   "metadata": {},
   "outputs": [
    {
     "data": {
      "text/plain": [
       "tensor([0.2470, 0.2435, 0.2616])"
      ]
     },
     "execution_count": 42,
     "metadata": {},
     "output_type": "execute_result"
    }
   ],
   "source": [
    "# std for the three channels\n",
    "imgs.view(3,-1).std(dim = 1)"
   ]
  },
  {
   "cell_type": "code",
   "execution_count": 43,
   "id": "c7e1577a-9f5c-42ee-9e4d-bf815daf3624",
   "metadata": {},
   "outputs": [
    {
     "data": {
      "text/plain": [
       "Normalize(mean=(0.4914, 0.4822, 0.4465), std=(0.247, 0.2435, 0.2616))"
      ]
     },
     "execution_count": 43,
     "metadata": {},
     "output_type": "execute_result"
    }
   ],
   "source": [
    "# now these can be used to normaize the images\n",
    "transforms.Normalize((0.4914, 0.4822, 0.4465), (0.2470, 0.2435, 0.2616))"
   ]
  },
  {
   "cell_type": "code",
   "execution_count": 44,
   "id": "14205f06-383d-45af-b949-6add3df45d4e",
   "metadata": {},
   "outputs": [],
   "source": [
    "# And this can be cncatenated in the ToTensor transform"
   ]
  },
  {
   "cell_type": "code",
   "execution_count": 45,
   "id": "fd446efc-9565-48aa-b919-8173400ba0a0",
   "metadata": {},
   "outputs": [],
   "source": [
    "transformed_cifar10 = datasets.CIFAR10(data_path, train = True, download = False, \n",
    "                                       transform = transforms.Compose([transforms.ToTensor(), transforms.Normalize((0.4914, 0.4822, 0.4465), (0.2470, 0.2435, 0.2616))]))"
   ]
  },
  {
   "cell_type": "code",
   "execution_count": 46,
   "id": "9b2b35d7-b13c-4059-aa4d-926bb54ebdf0",
   "metadata": {},
   "outputs": [
    {
     "data": {
      "text/plain": [
       "50000"
      ]
     },
     "execution_count": 46,
     "metadata": {},
     "output_type": "execute_result"
    }
   ],
   "source": [
    "len(transformed_cifar10)"
   ]
  },
  {
   "cell_type": "code",
   "execution_count": 47,
   "id": "00b7fb61-3cc8-45dc-bbe5-120c301f1285",
   "metadata": {},
   "outputs": [],
   "source": [
    "img_tn, _ = transformed_cifar10[99]"
   ]
  },
  {
   "cell_type": "code",
   "execution_count": 51,
   "id": "45409ee2-c938-4a2b-b247-6435383ca207",
   "metadata": {},
   "outputs": [],
   "source": [
    "# img_tn"
   ]
  },
  {
   "cell_type": "code",
   "execution_count": 48,
   "id": "3c907a40-4402-49d6-9a1d-c12658ab9a40",
   "metadata": {},
   "outputs": [
    {
     "name": "stderr",
     "output_type": "stream",
     "text": [
      "Clipping input data to the valid range for imshow with RGB data ([0..1] for floats or [0..255] for integers). Got range [-1.9802876..2.1264887].\n"
     ]
    },
    {
     "data": {
      "image/png": "[encoded data removed]",
      "text/plain": [
       "<Figure size 640x480 with 1 Axes>"
      ]
     },
     "metadata": {},
     "output_type": "display_data"
    }
   ],
   "source": [
    "# now plot this, but it would not look the same\n",
    "plt.imshow(img_tn.permute(1,2,0))\n",
    "plt.show()"
   ]
  },
  {
   "cell_type": "code",
   "execution_count": 49,
   "id": "336efd44-4100-4540-a0c3-4a2e28c7ba86",
   "metadata": {},
   "outputs": [],
   "source": [
    "# for this task - differentiate birds from planes, we will subset data from our original data"
   ]
  },
  {
   "cell_type": "code",
   "execution_count": null,
   "id": "40a07581-1fd1-4f0c-9e2c-a464da3fb80a",
   "metadata": {},
   "outputs": [],
   "source": []
  },
  {
   "cell_type": "code",
   "execution_count": null,
   "id": "977a85fb-b40c-4c22-921b-5d9352a744c5",
   "metadata": {},
   "outputs": [],
   "source": []
  },
  {
   "cell_type": "code",
   "execution_count": null,
   "id": "8971dbb0-e204-402a-a2aa-fc00c71eb7a5",
   "metadata": {},
   "outputs": [],
   "source": []
  },
  {
   "cell_type": "code",
   "execution_count": null,
   "id": "14f8c964-1fed-4ee0-a35a-df268acca0e0",
   "metadata": {},
   "outputs": [],
   "source": []
  }
 ],
 "metadata": {
  "kernelspec": {
   "display_name": "PyTorch GPU 2.5 (py312)",
   "language": "python",
   "name": "pytorch-gpu-2.5-py312"
  },
  "language_info": {
   "codemirror_mode": {
    "name": "ipython",
    "version": 3
   },
   "file_extension": ".py",
   "mimetype": "text/x-python",
   "name": "python",
   "nbconvert_exporter": "python",
   "pygments_lexer": "ipython3",
   "version": "3.12.8"
  }
 },
 "nbformat": 4,
 "nbformat_minor": 5
}
