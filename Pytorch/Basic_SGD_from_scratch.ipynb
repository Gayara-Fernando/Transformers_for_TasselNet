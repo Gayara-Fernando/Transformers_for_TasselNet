{
 "cells": [
  {
   "cell_type": "code",
   "execution_count": 1,
   "id": "cae47f90-77c7-424a-b430-467ed3b01d34",
   "metadata": {},
   "outputs": [],
   "source": [
    "import numpy as np\n",
    "import os\n",
    "import pandas as pd\n",
    "import torch\n",
    "import matplotlib.pyplot as plt"
   ]
  },
  {
   "cell_type": "code",
   "execution_count": 2,
   "id": "0ade4d82-4af7-4572-9463-9e2695b9d19f",
   "metadata": {},
   "outputs": [],
   "source": [
    "# Let's code up a basic SGD for a very simple regression problem"
   ]
  },
  {
   "cell_type": "code",
   "execution_count": 3,
   "id": "a0381e0c-5f0c-4e18-99c3-cd5f5a25fdca",
   "metadata": {},
   "outputs": [],
   "source": [
    "t_c = [0.5, 14, 15, 28, 11, 8, 3, -4, 6, 13, 21]\n",
    "t_u = [35.7, 55.9, 58.2, 81.9, 56.3, 48.9, 33.9, 21.8, 48.4, 60.4, 68.4]"
   ]
  },
  {
   "cell_type": "code",
   "execution_count": 4,
   "id": "5001379b-45cf-40ad-8c69-b369dd422677",
   "metadata": {},
   "outputs": [
    {
     "name": "stdout",
     "output_type": "stream",
     "text": [
      "11 11\n"
     ]
    }
   ],
   "source": [
    "print(len(t_c), len(t_u))"
   ]
  },
  {
   "cell_type": "code",
   "execution_count": 5,
   "id": "74c49397-ee10-432c-b049-b2dc4bea7b94",
   "metadata": {},
   "outputs": [
    {
     "data": {
      "image/png": "[encoded data removed]",
      "text/plain": [
       "<Figure size 640x480 with 1 Axes>"
      ]
     },
     "metadata": {},
     "output_type": "display_data"
    }
   ],
   "source": [
    "plt.scatter(t_u, t_c)\n",
    "plt.show()"
   ]
  },
  {
   "cell_type": "code",
   "execution_count": 6,
   "id": "30d75f49-8c72-4cb3-9431-6d2efc986932",
   "metadata": {},
   "outputs": [],
   "source": [
    "# convet the two lists to torch tensors"
   ]
  },
  {
   "cell_type": "code",
   "execution_count": 7,
   "id": "83f9dd42-2889-42af-8358-dabdc00a8ce5",
   "metadata": {},
   "outputs": [],
   "source": [
    "t_c = torch.tensor(t_c)\n",
    "t_u = torch.tensor(t_u)"
   ]
  },
  {
   "cell_type": "code",
   "execution_count": 8,
   "id": "3f8f8d0b-91a6-41b9-bc5f-146687724acf",
   "metadata": {},
   "outputs": [
    {
     "data": {
      "text/plain": [
       "(torch.Size([11]), torch.Size([11]))"
      ]
     },
     "execution_count": 8,
     "metadata": {},
     "output_type": "execute_result"
    }
   ],
   "source": [
    "t_c.shape, t_u.shape"
   ]
  },
  {
   "cell_type": "code",
   "execution_count": 9,
   "id": "a0b6cd7f-0dd4-47c2-8cdb-94cf7d330bf7",
   "metadata": {},
   "outputs": [],
   "source": [
    "# we will fit a linear model"
   ]
  },
  {
   "cell_type": "code",
   "execution_count": 10,
   "id": "63efc5c6-cb44-4126-b84e-fc5004149651",
   "metadata": {},
   "outputs": [],
   "source": [
    "# define the model as follows\n",
    "\n",
    "# t_u is x and t_u is y\n",
    "# w, b wll be scalars"
   ]
  },
  {
   "cell_type": "code",
   "execution_count": 11,
   "id": "e8e3813c-a26a-4220-bc64-34f3354971a1",
   "metadata": {},
   "outputs": [],
   "source": [
    "def model(t_u, w, b):\n",
    "    return w*t_u + b"
   ]
  },
  {
   "cell_type": "code",
   "execution_count": 12,
   "id": "44ed81d3-aa0a-444e-980d-08ed6652795f",
   "metadata": {},
   "outputs": [],
   "source": [
    "# also define a loss function - this would be the mse\n",
    "\n",
    "def loss_mse(t_p, t_c):\n",
    "    # t_P will be the predicted values\n",
    "    squared_diff = (t_p - t_c)**2\n",
    "    mse = squared_diff.mean()\n",
    "\n",
    "    return mse"
   ]
  },
  {
   "cell_type": "code",
   "execution_count": 13,
   "id": "636217d4-241a-496a-96f1-50a54e310675",
   "metadata": {},
   "outputs": [],
   "source": [
    "# let's initialize the two parameters of the model"
   ]
  },
  {
   "cell_type": "code",
   "execution_count": 14,
   "id": "7a6771cf-e5ff-4940-8354-81cb93894596",
   "metadata": {},
   "outputs": [],
   "source": [
    "w = torch.ones(())\n",
    "b = torch.zeros(())"
   ]
  },
  {
   "cell_type": "code",
   "execution_count": 15,
   "id": "c65989bd-0318-435d-9720-b9f31e83697a",
   "metadata": {},
   "outputs": [
    {
     "data": {
      "text/plain": [
       "(tensor(1.), tensor(0.))"
      ]
     },
     "execution_count": 15,
     "metadata": {},
     "output_type": "execute_result"
    }
   ],
   "source": [
    "w, b"
   ]
  },
  {
   "cell_type": "code",
   "execution_count": 16,
   "id": "59e8d4a7-4d56-4d69-b0cb-a68c657e6a2f",
   "metadata": {},
   "outputs": [],
   "source": [
    "# get the predicted values with the current parameter values"
   ]
  },
  {
   "cell_type": "code",
   "execution_count": 17,
   "id": "c1fb0500-dab2-462b-b538-9c5f5d1994e1",
   "metadata": {},
   "outputs": [],
   "source": [
    "t_predicted = model(t_u, w, b)"
   ]
  },
  {
   "cell_type": "code",
   "execution_count": 18,
   "id": "b8aee047-5af7-4fc3-9475-af2e821fa326",
   "metadata": {},
   "outputs": [
    {
     "data": {
      "text/plain": [
       "tensor([35.7000, 55.9000, 58.2000, 81.9000, 56.3000, 48.9000, 33.9000, 21.8000,\n",
       "        48.4000, 60.4000, 68.4000])"
      ]
     },
     "execution_count": 18,
     "metadata": {},
     "output_type": "execute_result"
    }
   ],
   "source": [
    "t_predicted"
   ]
  },
  {
   "cell_type": "code",
   "execution_count": 19,
   "id": "676f95d7-0354-4433-be55-0d3df7ca0167",
   "metadata": {},
   "outputs": [],
   "source": [
    "delta = 0.1\n",
    "loss_rate_of_Change_w = (loss_mse(model(t_u, w + delta, b), t_c) - loss_mse(model(t_u, w - delta, b), t_c))/(2*delta)"
   ]
  },
  {
   "cell_type": "code",
   "execution_count": 20,
   "id": "92aebbf8-0122-42d2-81ce-67a3a50049fe",
   "metadata": {},
   "outputs": [
    {
     "data": {
      "text/plain": [
       "tensor(4517.2974)"
      ]
     },
     "execution_count": 20,
     "metadata": {},
     "output_type": "execute_result"
    }
   ],
   "source": [
    "loss_rate_of_Change_w"
   ]
  },
  {
   "cell_type": "code",
   "execution_count": 21,
   "id": "8223924d-3612-4f58-9834-efad012d795e",
   "metadata": {},
   "outputs": [],
   "source": [
    "learning_rate = 1e-2"
   ]
  },
  {
   "cell_type": "code",
   "execution_count": 22,
   "id": "e272b505-9bc4-4a6f-a960-1cb2575a542e",
   "metadata": {},
   "outputs": [],
   "source": [
    "w = w-learning_rate*loss_rate_of_Change_w"
   ]
  },
  {
   "cell_type": "code",
   "execution_count": 23,
   "id": "3cc27d52-e720-468b-af9b-bf7023e07023",
   "metadata": {},
   "outputs": [
    {
     "data": {
      "text/plain": [
       "tensor(-44.1730)"
      ]
     },
     "execution_count": 23,
     "metadata": {},
     "output_type": "execute_result"
    }
   ],
   "source": [
    "w"
   ]
  },
  {
   "cell_type": "code",
   "execution_count": 24,
   "id": "ae387db7-a2c0-4a17-aa4c-296b258ce642",
   "metadata": {},
   "outputs": [],
   "source": [
    "loss_rate_of_Change_b = (loss_mse(model(t_u, w , b + delta), t_c) - loss_mse(model(t_u, w , b - delta), t_c))/(2*delta)"
   ]
  },
  {
   "cell_type": "code",
   "execution_count": 25,
   "id": "7b6e8402-86a7-4276-862d-aede857e8ee7",
   "metadata": {},
   "outputs": [],
   "source": [
    "b = b-learning_rate*loss_rate_of_Change_b"
   ]
  },
  {
   "cell_type": "code",
   "execution_count": 26,
   "id": "f4165687-ce7f-49bd-8e6a-cd02619c6d0d",
   "metadata": {},
   "outputs": [
    {
     "data": {
      "text/plain": [
       "tensor(46.)"
      ]
     },
     "execution_count": 26,
     "metadata": {},
     "output_type": "execute_result"
    }
   ],
   "source": [
    "b"
   ]
  },
  {
   "cell_type": "code",
   "execution_count": 27,
   "id": "1febe360-a417-46ba-a9f5-1c8c145dd0d4",
   "metadata": {},
   "outputs": [],
   "source": [
    "loss_rate_of_Change_w = (loss_mse(model(t_u, w + delta, b), t_c) - loss_mse(model(t_u, w - delta, b), t_c))/(2*delta)"
   ]
  },
  {
   "cell_type": "code",
   "execution_count": 28,
   "id": "b997aaef-5eab-4a4c-a346-1346490cf6de",
   "metadata": {},
   "outputs": [
    {
     "data": {
      "text/plain": [
       "tensor(-256402.5000)"
      ]
     },
     "execution_count": 28,
     "metadata": {},
     "output_type": "execute_result"
    }
   ],
   "source": [
    "loss_rate_of_Change_w"
   ]
  },
  {
   "cell_type": "code",
   "execution_count": 29,
   "id": "bff93239-1d0c-4ea4-9b0a-7151290bc665",
   "metadata": {},
   "outputs": [],
   "source": [
    "loss_rate_of_Change_b = (loss_mse(model(t_u, w , b + delta), t_c) - loss_mse(model(t_u, w , b - delta), t_c))/(2*delta)"
   ]
  },
  {
   "cell_type": "code",
   "execution_count": 30,
   "id": "9cb591db-dccc-4027-85cb-031fba850477",
   "metadata": {},
   "outputs": [
    {
     "data": {
      "text/plain": [
       "tensor(-4510.)"
      ]
     },
     "execution_count": 30,
     "metadata": {},
     "output_type": "execute_result"
    }
   ],
   "source": [
    "loss_rate_of_Change_b"
   ]
  },
  {
   "cell_type": "code",
   "execution_count": 31,
   "id": "58771e89-6b41-4452-b473-097f783c9d99",
   "metadata": {},
   "outputs": [],
   "source": [
    "w = w-learning_rate*loss_rate_of_Change_w"
   ]
  },
  {
   "cell_type": "code",
   "execution_count": 32,
   "id": "73b2ae53-70a0-49a3-9429-6f26f8b073c2",
   "metadata": {},
   "outputs": [
    {
     "data": {
      "text/plain": [
       "tensor(2519.8521)"
      ]
     },
     "execution_count": 32,
     "metadata": {},
     "output_type": "execute_result"
    }
   ],
   "source": [
    "w"
   ]
  },
  {
   "cell_type": "code",
   "execution_count": 33,
   "id": "f55c0b44-6024-4178-a9b9-5fb696cf43a2",
   "metadata": {},
   "outputs": [],
   "source": [
    "b = b-learning_rate*loss_rate_of_Change_b"
   ]
  },
  {
   "cell_type": "code",
   "execution_count": 34,
   "id": "6f5b3001-8388-42ae-8469-7acd08f61591",
   "metadata": {},
   "outputs": [
    {
     "data": {
      "text/plain": [
       "tensor(91.1000)"
      ]
     },
     "execution_count": 34,
     "metadata": {},
     "output_type": "execute_result"
    }
   ],
   "source": [
    "b"
   ]
  }
 ],
 "metadata": {
  "kernelspec": {
   "display_name": "PyTorch GPU 2.5 (py312)",
   "language": "python",
   "name": "pytorch-gpu-2.5-py312"
  },
  "language_info": {
   "codemirror_mode": {
    "name": "ipython",
    "version": 3
   },
   "file_extension": ".py",
   "mimetype": "text/x-python",
   "name": "python",
   "nbconvert_exporter": "python",
   "pygments_lexer": "ipython3",
   "version": "3.12.8"
  }
 },
 "nbformat": 4,
 "nbformat_minor": 5
}
