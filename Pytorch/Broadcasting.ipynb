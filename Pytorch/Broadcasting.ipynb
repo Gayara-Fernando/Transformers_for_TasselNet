{
 "cells": [
  {
   "cell_type": "code",
   "execution_count": 1,
   "id": "22c018d3-2633-4e63-8637-cc2fb82af698",
   "metadata": {},
   "outputs": [],
   "source": [
    "import numpy as np\n",
    "import pandas as pd\n",
    "import os\n",
    "import torch"
   ]
  },
  {
   "cell_type": "code",
   "execution_count": 2,
   "id": "04e4ce84-48aa-4037-b852-e7950f7bd253",
   "metadata": {},
   "outputs": [],
   "source": [
    "# broadcasting"
   ]
  },
  {
   "cell_type": "code",
   "execution_count": 3,
   "id": "0314de25-772e-40db-9859-9fdd0a695a79",
   "metadata": {},
   "outputs": [],
   "source": [
    "# In torch broadcasting, the operations happen in an elemen-wise fashion - meaning this is not equal to matrix multiplication \"*\"\n",
    "\n",
    "# The broadcasting happens in the singleton dimension, if there exist one such dimension (the axis that has a dimenison of 1). We basically strech the contents along this axis."
   ]
  },
  {
   "cell_type": "code",
   "execution_count": 4,
   "id": "941f347d-cda8-4b84-982a-30f20e0294d5",
   "metadata": {},
   "outputs": [],
   "source": [
    "# consider the following example"
   ]
  },
  {
   "cell_type": "code",
   "execution_count": 5,
   "id": "867ee212-f12f-4a0e-a1df-9f235cee6796",
   "metadata": {},
   "outputs": [],
   "source": [
    "x = torch.randn((3,1))"
   ]
  },
  {
   "cell_type": "code",
   "execution_count": 6,
   "id": "b7cbbe97-8df4-4828-b520-0b49dff4af35",
   "metadata": {},
   "outputs": [
    {
     "data": {
      "text/plain": [
       "tensor([[ 0.1485],\n",
       "        [-1.3646],\n",
       "        [-0.4325]])"
      ]
     },
     "execution_count": 6,
     "metadata": {},
     "output_type": "execute_result"
    }
   ],
   "source": [
    "x"
   ]
  },
  {
   "cell_type": "code",
   "execution_count": 7,
   "id": "8c76c3dc-414f-45c2-9cf7-3c86dec858f9",
   "metadata": {},
   "outputs": [
    {
     "data": {
      "text/plain": [
       "torch.Size([3, 1])"
      ]
     },
     "execution_count": 7,
     "metadata": {},
     "output_type": "execute_result"
    }
   ],
   "source": [
    "x.shape"
   ]
  },
  {
   "cell_type": "code",
   "execution_count": 8,
   "id": "8296c396-e411-4bb3-ae3c-33e6e820f0d9",
   "metadata": {},
   "outputs": [],
   "source": [
    "y = torch.randn((1,3))"
   ]
  },
  {
   "cell_type": "code",
   "execution_count": 9,
   "id": "b6fe26f6-7fb9-4774-b81b-eecdcf7b32fc",
   "metadata": {},
   "outputs": [
    {
     "data": {
      "text/plain": [
       "tensor([[ 1.1200,  1.6239, -0.2311]])"
      ]
     },
     "execution_count": 9,
     "metadata": {},
     "output_type": "execute_result"
    }
   ],
   "source": [
    "y"
   ]
  },
  {
   "cell_type": "code",
   "execution_count": 10,
   "id": "4436578b-75f7-416c-9164-536f5b00a0d7",
   "metadata": {},
   "outputs": [
    {
     "data": {
      "text/plain": [
       "tensor([[ 0.1663,  0.2411, -0.0343],\n",
       "        [-1.5284, -2.2160,  0.3153],\n",
       "        [-0.4844, -0.7023,  0.0999]])"
      ]
     },
     "execution_count": 10,
     "metadata": {},
     "output_type": "execute_result"
    }
   ],
   "source": [
    "x*y"
   ]
  },
  {
   "cell_type": "code",
   "execution_count": 11,
   "id": "db2dd9a8-5e92-4744-ad91-96c7e3c7fbe5",
   "metadata": {},
   "outputs": [
    {
     "data": {
      "text/plain": [
       "tensor([[ 0.1663,  0.2411, -0.0343],\n",
       "        [-1.5284, -2.2160,  0.3153],\n",
       "        [-0.4844, -0.7023,  0.0999]])"
      ]
     },
     "execution_count": 11,
     "metadata": {},
     "output_type": "execute_result"
    }
   ],
   "source": [
    "y*x"
   ]
  },
  {
   "cell_type": "code",
   "execution_count": 12,
   "id": "0abdbf38-1236-4fd5-ab43-1a8887e1be77",
   "metadata": {},
   "outputs": [],
   "source": [
    "# note both of these return the same output"
   ]
  },
  {
   "cell_type": "code",
   "execution_count": 13,
   "id": "242aa440-11e3-4be6-8a77-4d2470121792",
   "metadata": {},
   "outputs": [],
   "source": [
    "# What happense here?"
   ]
  },
  {
   "cell_type": "code",
   "execution_count": 14,
   "id": "0b0ddb4c-d84e-49cd-8ad1-8e73bc2ac1e0",
   "metadata": {},
   "outputs": [],
   "source": [
    "# # x has dimensions 3*1. The contensts are strched column-wise\n",
    "# # therefore x becomes\n",
    "\n",
    "# x = [0.1485 0.1485 0.1485\n",
    "#      -1.3646 -1.3646 -1.3646\n",
    "#      -0.4325 -0.4325 -0.4325\n",
    "# ]\n",
    "# # y is stretched along row axis\n",
    "\n",
    "# y  =  [ 1.1200  1.6239 -0.2311\n",
    "#         1.1200  1.6239 -0.2311\n",
    "#         1.1200  1.623, -0.2311]\n",
    "\n",
    "# # now the element-wise multiplication\n",
    "\n",
    "# x becomes 3*3, and y becomes 3*3, and the resulting element-wise multiplication will give a 3*3 matrix"
   ]
  },
  {
   "cell_type": "code",
   "execution_count": 36,
   "id": "8659c110-84c0-48b0-9080-72ea691936ac",
   "metadata": {},
   "outputs": [
    {
     "data": {
      "text/plain": [
       "(0.16632, 0.24114914999999998, -0.03431835)"
      ]
     },
     "execution_count": 36,
     "metadata": {},
     "output_type": "execute_result"
    }
   ],
   "source": [
    "# the first row should look something like this\n",
    "0.1485*1.1200, 0.1485*1.6239, 0.1485*-0.2311"
   ]
  },
  {
   "cell_type": "code",
   "execution_count": 37,
   "id": "893b5f3d-e84a-4537-aed2-6cbeaa42f9bf",
   "metadata": {},
   "outputs": [
    {
     "data": {
      "text/plain": [
       "(-1.5283520000000002, -2.21597394, 0.31535906)"
      ]
     },
     "execution_count": 37,
     "metadata": {},
     "output_type": "execute_result"
    }
   ],
   "source": [
    "1.1200*-1.3646,  1.6239*-1.3646, -0.2311*-1.3646"
   ]
  },
  {
   "cell_type": "code",
   "execution_count": 38,
   "id": "dc2edb42-ce1c-42cb-841c-6bfb0384d96f",
   "metadata": {},
   "outputs": [
    {
     "data": {
      "text/plain": [
       "(-0.48440000000000005, -0.7019475, 0.09995075)"
      ]
     },
     "execution_count": 38,
     "metadata": {},
     "output_type": "execute_result"
    }
   ],
   "source": [
    "1.1200*-0.4325,  1.623*-0.4325, -0.2311*-0.4325"
   ]
  },
  {
   "cell_type": "code",
   "execution_count": 18,
   "id": "c3b92a59-2948-414f-90ba-4a8b91a15ba3",
   "metadata": {},
   "outputs": [],
   "source": [
    "# Okay, now what if we introudce a third matrix, that is of shape (2,1,1)?"
   ]
  },
  {
   "cell_type": "code",
   "execution_count": 19,
   "id": "3776f285-10eb-41ab-8251-4855f3da136c",
   "metadata": {},
   "outputs": [],
   "source": [
    "a = torch.randn((2,1,1))"
   ]
  },
  {
   "cell_type": "code",
   "execution_count": 20,
   "id": "f97b217b-3126-4e63-8ed2-302c15b69c04",
   "metadata": {},
   "outputs": [
    {
     "data": {
      "text/plain": [
       "tensor([[[-0.2526]],\n",
       "\n",
       "        [[ 0.0676]]])"
      ]
     },
     "execution_count": 20,
     "metadata": {},
     "output_type": "execute_result"
    }
   ],
   "source": [
    "a"
   ]
  },
  {
   "cell_type": "code",
   "execution_count": 21,
   "id": "0ce0197a-7856-4bbe-860f-0485fcd46ca5",
   "metadata": {},
   "outputs": [
    {
     "data": {
      "text/plain": [
       "torch.Size([2, 1, 1])"
      ]
     },
     "execution_count": 21,
     "metadata": {},
     "output_type": "execute_result"
    }
   ],
   "source": [
    "a.shape"
   ]
  },
  {
   "cell_type": "code",
   "execution_count": 22,
   "id": "a76c90fd-e398-4445-8acb-b058ea8ca7fc",
   "metadata": {},
   "outputs": [],
   "source": [
    "# how will x*y*a look like?"
   ]
  },
  {
   "cell_type": "code",
   "execution_count": 25,
   "id": "d1095204-95ec-407d-8b53-440c5a970682",
   "metadata": {},
   "outputs": [],
   "source": [
    "result = x*y*a"
   ]
  },
  {
   "cell_type": "code",
   "execution_count": 26,
   "id": "4b722ccf-6656-498e-ac85-18aa6a841fca",
   "metadata": {},
   "outputs": [
    {
     "data": {
      "text/plain": [
       "tensor([[[-0.0420, -0.0609,  0.0087],\n",
       "         [ 0.3861,  0.5598, -0.0797],\n",
       "         [ 0.1224,  0.1774, -0.0252]],\n",
       "\n",
       "        [[ 0.0112,  0.0163, -0.0023],\n",
       "         [-0.1034, -0.1499,  0.0213],\n",
       "         [-0.0328, -0.0475,  0.0068]]])"
      ]
     },
     "execution_count": 26,
     "metadata": {},
     "output_type": "execute_result"
    }
   ],
   "source": [
    "result"
   ]
  },
  {
   "cell_type": "code",
   "execution_count": 27,
   "id": "fefcffd2-8fde-4a5f-8c1f-b898ae117f6a",
   "metadata": {},
   "outputs": [
    {
     "data": {
      "text/plain": [
       "torch.Size([2, 3, 3])"
      ]
     },
     "execution_count": 27,
     "metadata": {},
     "output_type": "execute_result"
    }
   ],
   "source": [
    "result.shape"
   ]
  },
  {
   "cell_type": "code",
   "execution_count": 28,
   "id": "44c90310-5869-431e-9be8-5eddb6e70638",
   "metadata": {},
   "outputs": [],
   "source": [
    "# how does this happen?"
   ]
  },
  {
   "cell_type": "code",
   "execution_count": 29,
   "id": "ed3204fc-6b8b-4841-9cce-dff2a1f8189d",
   "metadata": {},
   "outputs": [],
   "source": [
    "# x is 3,1\n",
    "# y is 1,3"
   ]
  },
  {
   "cell_type": "code",
   "execution_count": 30,
   "id": "78c049db-24cc-42c1-82d0-b3ba864dce48",
   "metadata": {},
   "outputs": [],
   "source": [
    "# we need to make both these 2D matrices 3D to do the above operation\n",
    "\n",
    "# do this by adding dimension 1 to front\n",
    "\n",
    "# x becomes 1,3,1\n",
    "# y becomes 1,1,3\n",
    "\n",
    "# now x*y here will first be 1,3,3, and then this times z will be 2,3,3\n",
    "\n",
    "# x*y = [ 0.1663 0.2411-0.0343\n",
    "#         -1.5284 -2.2160 0.3153\n",
    "#         -0.4844 -0.7023 0.0999]\n",
    "\n",
    "# z = [[[-0.2526]],\n",
    "\n",
    "#         [[ 0.0676]]]"
   ]
  },
  {
   "cell_type": "code",
   "execution_count": 34,
   "id": "1931808b-5f31-4e3c-812a-e42b51a9e067",
   "metadata": {},
   "outputs": [
    {
     "name": "stdout",
     "output_type": "stream",
     "text": [
      "-0.04200738 -0.06090186 0.008664179999999999\n",
      "0.38607384 0.5597616000000001 -0.07964478\n",
      "0.12235944 0.17740098 -0.02523474\n"
     ]
    }
   ],
   "source": [
    "print(0.1663*-0.2526, 0.2411*-0.2526, -0.0343*-0.2526)\n",
    "print(-1.5284*-0.2526, -2.2160*-0.2526, 0.3153*-0.2526)\n",
    "print(-0.4844*-0.2526, -0.7023*-0.2526, 0.0999*-0.2526)"
   ]
  },
  {
   "cell_type": "code",
   "execution_count": 35,
   "id": "21b8beaa-3a50-4f86-b5c2-e4b8cec6604f",
   "metadata": {},
   "outputs": [
    {
     "name": "stdout",
     "output_type": "stream",
     "text": [
      "0.01124188 0.016298359999999998 -0.0023186799999999996\n",
      "-0.10331983999999998 -0.1498016 0.021314279999999998\n",
      "-0.032745439999999994 -0.04747548 0.00675324\n"
     ]
    }
   ],
   "source": [
    "print(0.1663*0.0676, 0.2411*0.0676, -0.0343*0.0676)\n",
    "print(-1.5284*0.0676, -2.2160*0.0676, 0.3153*0.0676)\n",
    "print(-0.4844*0.0676, -0.7023*0.0676, 0.0999*0.0676)"
   ]
  }
 ],
 "metadata": {
  "kernelspec": {
   "display_name": "PyTorch GPU 2.5 (py312)",
   "language": "python",
   "name": "pytorch-gpu-2.5-py312"
  },
  "language_info": {
   "codemirror_mode": {
    "name": "ipython",
    "version": 3
   },
   "file_extension": ".py",
   "mimetype": "text/x-python",
   "name": "python",
   "nbconvert_exporter": "python",
   "pygments_lexer": "ipython3",
   "version": "3.12.8"
  }
 },
 "nbformat": 4,
 "nbformat_minor": 5
}
