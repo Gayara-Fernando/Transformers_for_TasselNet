{
 "cells": [
  {
   "cell_type": "code",
   "execution_count": 1,
   "id": "22c018d3-2633-4e63-8637-cc2fb82af698",
   "metadata": {},
   "outputs": [],
   "source": [
    "import numpy as np\n",
    "import pandas as pd\n",
    "import os\n",
    "import torch"
   ]
  },
  {
   "cell_type": "code",
   "execution_count": 2,
   "id": "04e4ce84-48aa-4037-b852-e7950f7bd253",
   "metadata": {},
   "outputs": [],
   "source": [
    "# broadcasting"
   ]
  },
  {
   "cell_type": "code",
   "execution_count": 4,
   "id": "0314de25-772e-40db-9859-9fdd0a695a79",
   "metadata": {},
   "outputs": [],
   "source": [
    "# In torch broadcasting, the operations happen in an elemen-wise fashion - meaning this is not equal to matrix multiplication \"*\"\n",
    "\n",
    "# The broadcasting happens in the singleton dimension, if there exist one such dimension (the axis that has a dimenison of 1). We basically strech the contents along this axis."
   ]
  },
  {
   "cell_type": "code",
   "execution_count": 5,
   "id": "941f347d-cda8-4b84-982a-30f20e0294d5",
   "metadata": {},
   "outputs": [],
   "source": [
    "# consider the following example"
   ]
  },
  {
   "cell_type": "code",
   "execution_count": 7,
   "id": "867ee212-f12f-4a0e-a1df-9f235cee6796",
   "metadata": {},
   "outputs": [],
   "source": [
    "x = torch.randn((3,1))"
   ]
  },
  {
   "cell_type": "code",
   "execution_count": 8,
   "id": "b7cbbe97-8df4-4828-b520-0b49dff4af35",
   "metadata": {},
   "outputs": [
    {
     "data": {
      "text/plain": [
       "tensor([[1.7959],\n",
       "        [1.1171],\n",
       "        [0.1500]])"
      ]
     },
     "execution_count": 8,
     "metadata": {},
     "output_type": "execute_result"
    }
   ],
   "source": [
    "x"
   ]
  },
  {
   "cell_type": "code",
   "execution_count": 9,
   "id": "8c76c3dc-414f-45c2-9cf7-3c86dec858f9",
   "metadata": {},
   "outputs": [
    {
     "data": {
      "text/plain": [
       "torch.Size([3, 1])"
      ]
     },
     "execution_count": 9,
     "metadata": {},
     "output_type": "execute_result"
    }
   ],
   "source": [
    "x.shape"
   ]
  },
  {
   "cell_type": "code",
   "execution_count": 10,
   "id": "8296c396-e411-4bb3-ae3c-33e6e820f0d9",
   "metadata": {},
   "outputs": [],
   "source": [
    "y = torch.randn((1,3))"
   ]
  },
  {
   "cell_type": "code",
   "execution_count": 11,
   "id": "b6fe26f6-7fb9-4774-b81b-eecdcf7b32fc",
   "metadata": {},
   "outputs": [
    {
     "data": {
      "text/plain": [
       "tensor([[-1.1303, -0.1305,  0.3660]])"
      ]
     },
     "execution_count": 11,
     "metadata": {},
     "output_type": "execute_result"
    }
   ],
   "source": [
    "y"
   ]
  },
  {
   "cell_type": "code",
   "execution_count": 12,
   "id": "4436578b-75f7-416c-9164-536f5b00a0d7",
   "metadata": {},
   "outputs": [
    {
     "data": {
      "text/plain": [
       "tensor([[-2.0298, -0.2344,  0.6573],\n",
       "        [-1.2626, -0.1458,  0.4089],\n",
       "        [-0.1696, -0.0196,  0.0549]])"
      ]
     },
     "execution_count": 12,
     "metadata": {},
     "output_type": "execute_result"
    }
   ],
   "source": [
    "x*y"
   ]
  },
  {
   "cell_type": "code",
   "execution_count": 13,
   "id": "db2dd9a8-5e92-4744-ad91-96c7e3c7fbe5",
   "metadata": {},
   "outputs": [
    {
     "data": {
      "text/plain": [
       "tensor([[-2.0298, -0.2344,  0.6573],\n",
       "        [-1.2626, -0.1458,  0.4089],\n",
       "        [-0.1696, -0.0196,  0.0549]])"
      ]
     },
     "execution_count": 13,
     "metadata": {},
     "output_type": "execute_result"
    }
   ],
   "source": [
    "y*x"
   ]
  },
  {
   "cell_type": "code",
   "execution_count": 14,
   "id": "0abdbf38-1236-4fd5-ab43-1a8887e1be77",
   "metadata": {},
   "outputs": [],
   "source": [
    "# note both of these return the same output"
   ]
  },
  {
   "cell_type": "code",
   "execution_count": 15,
   "id": "242aa440-11e3-4be6-8a77-4d2470121792",
   "metadata": {},
   "outputs": [],
   "source": [
    "# What happense here?"
   ]
  },
  {
   "cell_type": "code",
   "execution_count": 18,
   "id": "0b0ddb4c-d84e-49cd-8ad1-8e73bc2ac1e0",
   "metadata": {},
   "outputs": [],
   "source": [
    "# # x has dimensions 3*1. The contensts are strched column-wise\n",
    "# # therefore x becomes\n",
    "# x = [1.7959 1.7959 1.7959\n",
    "#      1.1171 1.1171 1.1171\n",
    "#      0.1500 0.1500 0.1500\n",
    "# ]\n",
    "# # y is stretched along row axis\n",
    "\n",
    "# y  =  [-1.1303 -0.1305  0.3660\n",
    "#        -1.1303 -0.1305 0.3660\n",
    "#        -1.1303 -0.1305 0.3660]\n",
    "\n",
    "# # now the element-wise multiplication"
   ]
  },
  {
   "cell_type": "code",
   "execution_count": 19,
   "id": "8659c110-84c0-48b0-9080-72ea691936ac",
   "metadata": {},
   "outputs": [
    {
     "data": {
      "text/plain": [
       "(-2.02990577, -0.23436495000000002, 0.6572994)"
      ]
     },
     "execution_count": 19,
     "metadata": {},
     "output_type": "execute_result"
    }
   ],
   "source": [
    "# the first row should look something like this\n",
    "-1.1303*1.7959, -0.1305*1.7959,  0.3660*1.7959"
   ]
  },
  {
   "cell_type": "code",
   "execution_count": 20,
   "id": "893b5f3d-e84a-4537-aed2-6cbeaa42f9bf",
   "metadata": {},
   "outputs": [
    {
     "data": {
      "text/plain": [
       "(-1.2626581300000002, -0.14578155, 0.40885859999999996)"
      ]
     },
     "execution_count": 20,
     "metadata": {},
     "output_type": "execute_result"
    }
   ],
   "source": [
    "1.1171*-1.1303, 1.1171*-0.1305, 1.1171* 0.3660"
   ]
  },
  {
   "cell_type": "code",
   "execution_count": 21,
   "id": "dc2edb42-ce1c-42cb-841c-6bfb0384d96f",
   "metadata": {},
   "outputs": [
    {
     "data": {
      "text/plain": [
       "(-0.169545, -0.019575, 0.0549)"
      ]
     },
     "execution_count": 21,
     "metadata": {},
     "output_type": "execute_result"
    }
   ],
   "source": [
    "-1.1303*0.1500, -0.1305*0.1500, 0.3660*0.1500"
   ]
  }
 ],
 "metadata": {
  "kernelspec": {
   "display_name": "PyTorch GPU 2.5 (py312)",
   "language": "python",
   "name": "pytorch-gpu-2.5-py312"
  },
  "language_info": {
   "codemirror_mode": {
    "name": "ipython",
    "version": 3
   },
   "file_extension": ".py",
   "mimetype": "text/x-python",
   "name": "python",
   "nbconvert_exporter": "python",
   "pygments_lexer": "ipython3",
   "version": "3.12.8"
  }
 },
 "nbformat": 4,
 "nbformat_minor": 5
}
