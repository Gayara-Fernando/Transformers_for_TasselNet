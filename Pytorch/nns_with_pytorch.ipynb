{
 "cells": [
  {
   "cell_type": "code",
   "execution_count": 1,
   "id": "ce0102b3-6bd9-478b-874a-273827451c04",
   "metadata": {},
   "outputs": [],
   "source": [
    "import numpy as np\n",
    "import os\n",
    "import pandas as pd\n",
    "import torch\n",
    "import torch.nn as nn\n",
    "import torch.optim as optim"
   ]
  },
  {
   "cell_type": "code",
   "execution_count": 2,
   "id": "5dda3631-e6f7-44e2-8622-0d48516a1496",
   "metadata": {},
   "outputs": [
    {
     "data": {
      "text/plain": [
       "torch.Size([11, 1])"
      ]
     },
     "execution_count": 2,
     "metadata": {},
     "output_type": "execute_result"
    }
   ],
   "source": [
    "t_c = [0.5,  14.0, 15.0, 28.0, 11.0,  8.0,  3.0, -4.0,  6.0, 13.0, 21.0]\n",
    "t_u = [35.7, 55.9, 58.2, 81.9, 56.3, 48.9, 33.9, 21.8, 48.4, 60.4, 68.4]\n",
    "t_c = torch.tensor(t_c).unsqueeze(1) # <1>\n",
    "t_u = torch.tensor(t_u).unsqueeze(1) # <1>\n",
    "\n",
    "t_u.shape"
   ]
  },
  {
   "cell_type": "code",
   "execution_count": 3,
   "id": "8069990b-b013-4d2b-b9d2-e3d65cfc0bb6",
   "metadata": {},
   "outputs": [],
   "source": [
    "# for artificial nns in pytorch the inputs should be 2D"
   ]
  },
  {
   "cell_type": "code",
   "execution_count": 4,
   "id": "611576cb-b413-4c4e-a8b7-a579eeefd8b9",
   "metadata": {},
   "outputs": [
    {
     "data": {
      "text/plain": [
       "(tensor([ 2,  3,  0,  7, 10,  1,  9,  5,  8]), tensor([6, 4]))"
      ]
     },
     "execution_count": 4,
     "metadata": {},
     "output_type": "execute_result"
    }
   ],
   "source": [
    "n_samples = t_u.shape[0]\n",
    "n_val = int(0.2 * n_samples)\n",
    "\n",
    "shuffled_indices = torch.randperm(n_samples)\n",
    "\n",
    "train_indices = shuffled_indices[:-n_val]\n",
    "val_indices = shuffled_indices[-n_val:]\n",
    "\n",
    "train_indices, val_indices"
   ]
  },
  {
   "cell_type": "code",
   "execution_count": 5,
   "id": "395dfda6-8c9e-4e7b-9908-2d53af8121cc",
   "metadata": {},
   "outputs": [],
   "source": [
    "t_u_train = t_u[train_indices]\n",
    "t_c_train = t_c[train_indices]\n",
    "\n",
    "t_u_val = t_u[val_indices]\n",
    "t_c_val = t_c[val_indices]\n",
    "\n",
    "t_un_train = 0.1 * t_u_train\n",
    "t_un_val = 0.1 * t_u_val"
   ]
  },
  {
   "cell_type": "code",
   "execution_count": 6,
   "id": "c5d52b0f-8257-47d5-8390-63135b6ddee2",
   "metadata": {},
   "outputs": [],
   "source": [
    "# torch module allows to fit a linear model with torch.nn"
   ]
  },
  {
   "cell_type": "code",
   "execution_count": 7,
   "id": "5801c987-5104-4bfa-8b2e-aab109287c81",
   "metadata": {},
   "outputs": [],
   "source": [
    "linear_model = nn.Linear(1,1) # this says we have one input feature and one target feature"
   ]
  },
  {
   "cell_type": "code",
   "execution_count": 8,
   "id": "0ab89ed2-6070-4a24-9c0a-422979eea013",
   "metadata": {},
   "outputs": [
    {
     "data": {
      "text/plain": [
       "tensor([[2.9953],\n",
       "        [4.6906]], grad_fn=<AddmmBackward0>)"
      ]
     },
     "execution_count": 8,
     "metadata": {},
     "output_type": "execute_result"
    }
   ],
   "source": [
    "linear_model(t_un_val)"
   ]
  },
  {
   "cell_type": "code",
   "execution_count": 9,
   "id": "06de06df-9229-489b-95ed-4046b36bba73",
   "metadata": {},
   "outputs": [],
   "source": [
    "# we can check for the initial values of the parameters - now observe here that we do not have to explicitly specify parameters"
   ]
  },
  {
   "cell_type": "code",
   "execution_count": 11,
   "id": "98f22c99-2579-449a-9e1b-5633d5c766d3",
   "metadata": {},
   "outputs": [
    {
     "data": {
      "text/plain": [
       "[Parameter containing:\n",
       " tensor([[0.7568]], requires_grad=True),\n",
       " Parameter containing:\n",
       " tensor([0.4297], requires_grad=True)]"
      ]
     },
     "execution_count": 11,
     "metadata": {},
     "output_type": "execute_result"
    }
   ],
   "source": [
    "list(linear_model.parameters())"
   ]
  },
  {
   "cell_type": "code",
   "execution_count": 15,
   "id": "59ecff9f-af1d-491e-afbd-2946c1a7b5de",
   "metadata": {},
   "outputs": [],
   "source": [
    "# or we can do bias and weights separately"
   ]
  },
  {
   "cell_type": "code",
   "execution_count": 16,
   "id": "787d2499-17d1-4bb6-9054-b332065702e8",
   "metadata": {},
   "outputs": [
    {
     "data": {
      "text/plain": [
       "Parameter containing:\n",
       "tensor([0.4297], requires_grad=True)"
      ]
     },
     "execution_count": 16,
     "metadata": {},
     "output_type": "execute_result"
    }
   ],
   "source": [
    "linear_model.bias"
   ]
  },
  {
   "cell_type": "code",
   "execution_count": 19,
   "id": "0e1a3fd3-7f40-4ffe-b0d3-c924b3373dd5",
   "metadata": {},
   "outputs": [
    {
     "data": {
      "text/plain": [
       "Parameter containing:\n",
       "tensor([[0.7568]], requires_grad=True)"
      ]
     },
     "execution_count": 19,
     "metadata": {},
     "output_type": "execute_result"
    }
   ],
   "source": [
    "linear_model.weight"
   ]
  },
  {
   "cell_type": "code",
   "execution_count": 12,
   "id": "644b4b7f-40a5-447b-9582-53283780105f",
   "metadata": {},
   "outputs": [],
   "source": [
    "# verify the above values are indeed correct"
   ]
  },
  {
   "cell_type": "code",
   "execution_count": 13,
   "id": "d7e226a2-4ca4-45f5-af43-7c1d3576dd8b",
   "metadata": {},
   "outputs": [
    {
     "data": {
      "text/plain": [
       "tensor([[3.3900],\n",
       "        [5.6300]])"
      ]
     },
     "execution_count": 13,
     "metadata": {},
     "output_type": "execute_result"
    }
   ],
   "source": [
    "t_un_val"
   ]
  },
  {
   "cell_type": "code",
   "execution_count": 20,
   "id": "65c36a31-a0f0-4a05-a7ad-76131467af68",
   "metadata": {},
   "outputs": [
    {
     "data": {
      "text/plain": [
       "(2.9952520000000002, 4.6904840000000005)"
      ]
     },
     "execution_count": 20,
     "metadata": {},
     "output_type": "execute_result"
    }
   ],
   "source": [
    "0.7568 * 3.3900 + 0.4297, 0.7568 * 5.6300 + 0.4297 # we get the values above"
   ]
  },
  {
   "cell_type": "code",
   "execution_count": 21,
   "id": "6b8e9083-f1cc-40ac-9e6b-02975b4d812d",
   "metadata": {},
   "outputs": [],
   "source": [
    "# we need not define the loss function either now - follows is a complete training loop"
   ]
  },
  {
   "cell_type": "code",
   "execution_count": 22,
   "id": "f7aa17c7-3e14-43de-bfd6-b220f5a0d0ba",
   "metadata": {},
   "outputs": [],
   "source": [
    "def training_loop(n_epochs, optimizer, model, loss, tu_train, tu_val, tc_train, tc_val):\n",
    "\n",
    "    # define the for loop here\n",
    "    for epoch in range(1, n_epochs + 1):\n",
    "        tp_train = model(tu_train)\n",
    "        loss_train = loss(tp_train, tc_train)\n",
    "\n",
    "        tp_val = model(tu_val)\n",
    "        loss_val = loss(tp_val, tc_val)\n",
    "\n",
    "        optimizer.zero_grad()\n",
    "        loss_train.backward()\n",
    "        optimizer.step()\n",
    "\n",
    "        if epoch == 1 or epoch % 1000 == 0:\n",
    "            print(f\"Epoch {epoch}, Training loss {loss_train.item():.4f},\" f\" Validation loss {loss_val.item():.4f}\")"
   ]
  },
  {
   "cell_type": "code",
   "execution_count": 23,
   "id": "973f74ff-3cf4-4fd7-90a8-0a7ed17337d2",
   "metadata": {},
   "outputs": [],
   "source": [
    "linear_model = nn.Linear(1, 1) # <1>\n",
    "# notice below how the parameters are now input to the optimizer\n",
    "optimizer = optim.SGD(linear_model.parameters(), lr=1e-2)"
   ]
  },
  {
   "cell_type": "code",
   "execution_count": 28,
   "id": "d237f75d-871c-40a3-8d03-0044653554be",
   "metadata": {},
   "outputs": [
    {
     "name": "stdout",
     "output_type": "stream",
     "text": [
      "Epoch 1, Training loss 357.0454, Validation loss 136.8881\n",
      "Epoch 1000, Training loss 3.6134, Validation loss 2.7016\n",
      "Epoch 2000, Training loss 2.6120, Validation loss 4.4475\n",
      "Epoch 3000, Training loss 2.5796, Validation loss 4.9092\n"
     ]
    }
   ],
   "source": [
    "training_loop(\n",
    "    n_epochs = 3000, \n",
    "    optimizer = optimizer,\n",
    "    model = linear_model,\n",
    "    # we do not have to separately define the mse/loss either\n",
    "    loss = nn.MSELoss(),\n",
    "    tu_train = t_un_train,\n",
    "    tu_val = t_un_val, \n",
    "    tc_train = t_c_train,\n",
    "    tc_val = t_c_val)"
   ]
  },
  {
   "cell_type": "code",
   "execution_count": 30,
   "id": "4d858f8a-9da4-4bd6-ab5f-512ef48bf665",
   "metadata": {},
   "outputs": [
    {
     "name": "stdout",
     "output_type": "stream",
     "text": [
      "Parameter containing:\n",
      "tensor([[5.5374]], requires_grad=True)\n"
     ]
    }
   ],
   "source": [
    "print(linear_model.weight)"
   ]
  },
  {
   "cell_type": "code",
   "execution_count": 31,
   "id": "26c4f090-d2d0-4781-a024-49b7f9c358aa",
   "metadata": {},
   "outputs": [
    {
     "name": "stdout",
     "output_type": "stream",
     "text": [
      "Parameter containing:\n",
      "tensor([-18.2208], requires_grad=True)\n"
     ]
    }
   ],
   "source": [
    "print(linear_model.bias)"
   ]
  }
 ],
 "metadata": {
  "kernelspec": {
   "display_name": "PyTorch GPU 2.5 (py312)",
   "language": "python",
   "name": "pytorch-gpu-2.5-py312"
  },
  "language_info": {
   "codemirror_mode": {
    "name": "ipython",
    "version": 3
   },
   "file_extension": ".py",
   "mimetype": "text/x-python",
   "name": "python",
   "nbconvert_exporter": "python",
   "pygments_lexer": "ipython3",
   "version": "3.12.8"
  }
 },
 "nbformat": 4,
 "nbformat_minor": 5
}
